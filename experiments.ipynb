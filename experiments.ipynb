{
 "cells": [
  {
   "cell_type": "markdown",
   "metadata": {},
   "source": [
    "## Step 1: Initialize an Embedding Model"
   ]
  },
  {
   "cell_type": "code",
   "execution_count": 30,
   "metadata": {},
   "outputs": [],
   "source": [
    "from langchain_google_genai import GoogleGenerativeAIEmbeddings\n",
    "\n",
    "embedding_model = GoogleGenerativeAIEmbeddings(\n",
    "    model=\"models/embedding-001\"\n",
    ")\n"
   ]
  },
  {
   "cell_type": "code",
   "execution_count": 4,
   "metadata": {},
   "outputs": [],
   "source": [
    "#pip install langchain chromadb\n"
   ]
  },
  {
   "cell_type": "markdown",
   "metadata": {},
   "source": [
    "## Step 2: Initialize the Chroma DB Connection"
   ]
  },
  {
   "cell_type": "code",
   "execution_count": 5,
   "metadata": {},
   "outputs": [
    {
     "name": "stderr",
     "output_type": "stream",
     "text": [
      "C:\\Users\\Pavan\\AppData\\Roaming\\Python\\Python312\\site-packages\\langchain_core\\_api\\deprecation.py:141: LangChainDeprecationWarning: The class `Chroma` was deprecated in LangChain 0.2.9 and will be removed in 0.4. An updated version of the class exists in the langchain-chroma package and should be used instead. To use it run `pip install -U langchain-chroma` and import as `from langchain_chroma import Chroma`.\n",
      "  warn_deprecated(\n"
     ]
    }
   ],
   "source": [
    "from langchain.vectorstores import Chroma\n",
    "\n",
    "db = Chroma(\n",
    "    collection_name=\"pharma_database\",\n",
    "    embedding_function=embedding_model,\n",
    "    persist_directory='./pharma_db'\n",
    ")\n"
   ]
  },
  {
   "cell_type": "code",
   "execution_count": 6,
   "metadata": {},
   "outputs": [
    {
     "data": {
      "text/plain": [
       "{'ids': [],\n",
       " 'embeddings': None,\n",
       " 'metadatas': [],\n",
       " 'documents': [],\n",
       " 'uris': None,\n",
       " 'data': None,\n",
       " 'included': ['metadatas', 'documents']}"
      ]
     },
     "execution_count": 6,
     "metadata": {},
     "output_type": "execute_result"
    }
   ],
   "source": [
    "db.get()"
   ]
  },
  {
   "cell_type": "markdown",
   "metadata": {},
   "source": [
    "## Start 3: Load necessary documents"
   ]
  },
  {
   "cell_type": "code",
   "execution_count": 7,
   "metadata": {},
   "outputs": [],
   "source": [
    "#pip install pypdf"
   ]
  },
  {
   "cell_type": "code",
   "execution_count": 8,
   "metadata": {},
   "outputs": [
    {
     "name": "stderr",
     "output_type": "stream",
     "text": [
      "100%|██████████| 7/7 [00:06<00:00,  1.03it/s]\n"
     ]
    }
   ],
   "source": [
    "from langchain_community.document_loaders import DirectoryLoader\n",
    "from langchain_community.document_loaders import PyPDFLoader\n",
    "\n",
    "loader = DirectoryLoader(\n",
    "    path=\"research-papers\", glob=\"*.pdf\", show_progress=True, loader_cls=PyPDFLoader\n",
    ")\n",
    "\n",
    "data = loader.load()"
   ]
  },
  {
   "cell_type": "code",
   "execution_count": 9,
   "metadata": {},
   "outputs": [
    {
     "name": "stdout",
     "output_type": "stream",
     "text": [
      "Type of Data Variable:  <class 'list'>\n",
      "\n",
      "Number of Documents:  63\n",
      "\n",
      "Type of each datapoints: <class 'langchain_core.documents.base.Document'>\n",
      "\n",
      "Metadata:  {'source': 'research-papers\\\\2060-AI-in-Life-Sciences.pdf', 'page': 0}\n",
      "\n",
      "Page Content:\n",
      "Executive Insights\n",
      "Artificial Intelligence in Life Sciences: The Formula for Pharma Success Across the Drug Lifecycle was written by  \n",
      "Clay Heskett, Partner, Ben Faircloth, Partner, and Stephen Roper,\n"
     ]
    }
   ],
   "source": [
    "print(\"Type of Data Variable: \", type(data))\n",
    "print()\n",
    "print(\"Number of Documents: \", len(data))\n",
    "print()\n",
    "print(\"Type of each datapoints:\", type(data[0]))\n",
    "print()\n",
    "print(\"Metadata: \", data[0].metadata)\n",
    "print()\n",
    "print(\"Page Content:\")\n",
    "print(data[0].page_content[:200])"
   ]
  },
  {
   "cell_type": "code",
   "execution_count": 10,
   "metadata": {},
   "outputs": [
    {
     "data": {
      "text/plain": [
       "{'source': 'research-papers\\\\AI-In-Pharmacy.pdf', 'page': 0}"
      ]
     },
     "execution_count": 10,
     "metadata": {},
     "output_type": "execute_result"
    }
   ],
   "source": [
    "data[38].metadata"
   ]
  },
  {
   "cell_type": "markdown",
   "metadata": {},
   "source": [
    "## Step 4: Split the document into chunks"
   ]
  },
  {
   "cell_type": "code",
   "execution_count": 11,
   "metadata": {},
   "outputs": [],
   "source": [
    "doc_metadata = [data[i].metadata for i in range(len(data))]\n",
    "doc_content = [data[i].page_content for i in range(len(data))]"
   ]
  },
  {
   "cell_type": "code",
   "execution_count": 12,
   "metadata": {},
   "outputs": [
    {
     "data": {
      "text/plain": [
       "({'source': 'research-papers\\\\2060-AI-in-Life-Sciences.pdf', 'page': 0},\n",
       " 'Executive Insights\\nArtificial Intelligence in Life Sciences: The Formula for Pharma Success Across t')"
      ]
     },
     "execution_count": 12,
     "metadata": {},
     "output_type": "execute_result"
    }
   ],
   "source": [
    "doc_metadata[0], doc_content[0][:100]"
   ]
  },
  {
   "cell_type": "code",
   "execution_count": 13,
   "metadata": {},
   "outputs": [],
   "source": [
    "#pip install tf-keras"
   ]
  },
  {
   "cell_type": "code",
   "execution_count": 14,
   "metadata": {},
   "outputs": [],
   "source": [
    "from langchain_text_splitters.sentence_transformers import SentenceTransformersTokenTextSplitter\n",
    "\n",
    "st_text_splitter = SentenceTransformersTokenTextSplitter(model_name=\"sentence-transformers/all-mpnet-base-v2\", \n",
    "                                                         chunk_size=100, \n",
    "                                                         chunk_overlap=50)\n",
    "\n",
    "st_chunks = st_text_splitter.create_documents(doc_content, doc_metadata)"
   ]
  },
  {
   "cell_type": "code",
   "execution_count": 15,
   "metadata": {},
   "outputs": [
    {
     "name": "stdout",
     "output_type": "stream",
     "text": [
      "Total number of documents inside chunks: 167\n",
      "\n",
      "Document 1 metadata: {'source': 'research-papers\\\\2060-AI-in-Life-Sciences.pdf', 'page': 0}\n",
      "Document 1 chunks: executive insights artificial intelligence in life sciences : the formula for pharma success across \n",
      "----------------------------------------------------------------------------------------------------\n",
      "Document 2 metadata: {'source': 'research-papers\\\\2060-AI-in-Life-Sciences.pdf', 'page': 0}\n",
      "Document 2 chunks: iteratively optimize their processes. within life sciences, we apply the term “ ai ” to four major a\n",
      "----------------------------------------------------------------------------------------------------\n",
      "Document 3 metadata: {'source': 'research-papers\\\\2060-AI-in-Life-Sciences.pdf', 'page': 1}\n",
      "Document 3 chunks: executive insights page 2 l. e. k. consulting / executive insights, volume xx, issue 60 ai ’ s abili\n",
      "----------------------------------------------------------------------------------------------------\n",
      "Document 4 metadata: {'source': 'research-papers\\\\2060-AI-in-Life-Sciences.pdf', 'page': 1}\n",
      "Document 4 chunks: in drug discovery. patients ’ data is used by companies including antidote and bullfrog ai to optimi\n",
      "----------------------------------------------------------------------------------------------------\n",
      "Document 5 metadata: {'source': 'research-papers\\\\2060-AI-in-Life-Sciences.pdf', 'page': 2}\n",
      "Document 5 chunks: executive insights page 3 l. e. k. consulting / executive insights, volume xx, issue 60 figure 2 ai \n"
     ]
    }
   ],
   "source": [
    "print(\"Total number of documents inside chunks:\", len(st_chunks))\n",
    "print()\n",
    "for i, chunk in enumerate(st_chunks, start=1):\n",
    "    print(f\"Document {i} metadata: {chunk.metadata}\")\n",
    "    print(f\"Document {i} chunks: {chunk.page_content[:100]}\")\n",
    "    if i == 5: break\n",
    "    print(\"-\" * 100)"
   ]
  },
  {
   "cell_type": "markdown",
   "metadata": {},
   "source": [
    "## Step 5: Add Chunks to ChromaDB"
   ]
  },
  {
   "cell_type": "code",
   "execution_count": 16,
   "metadata": {},
   "outputs": [
    {
     "data": {
      "text/plain": [
       "['7187108c-47eb-47a2-9c5e-db6b53b68c4d',\n",
       " '317f157b-6fc1-485c-b172-ff1a7ca46504',\n",
       " '0a8d0c7b-d9d0-4bbf-9d1e-f22244fc6490',\n",
       " 'a6c2f180-a994-4d1e-adee-740aa33f94f4',\n",
       " 'ec98e0d6-9b88-4df0-ac13-eecea406b097',\n",
       " '15973eda-45df-4f33-87fc-e5019c355195',\n",
       " 'd1f36330-98c9-4dba-ac55-5347517a8780',\n",
       " '265ab9e8-5596-4d42-8155-5e15981847e0',\n",
       " '9eff62f7-d490-4808-8e0f-a051de9e9bb3',\n",
       " 'ebe167e8-a9e9-4ca3-8a5f-5ec84429e05b',\n",
       " '262bc811-d67f-46d3-8c66-abe255c31549',\n",
       " '9132d5e8-f501-49b6-a912-8e8d12d82269',\n",
       " 'f2e2583e-f007-49d0-99cd-97a95647e439',\n",
       " '6132ae49-3f6c-480b-9426-89993f3e938b',\n",
       " '2a418cba-cd06-419b-9e65-ed4dbe80e770',\n",
       " '047204e8-fb9b-448f-ab56-04fc87a5e8b9',\n",
       " '7b518628-4750-41e6-9191-bf9fc581aa62',\n",
       " 'b5ffe79c-5132-4fee-8072-2de253aeaff9',\n",
       " 'cf7b0182-c619-4126-87e0-171edfae0b72',\n",
       " 'e5f3f687-6e4a-445e-9255-5dcf7144b90d',\n",
       " '41e4f81c-796e-448c-91e2-a563c573ae62',\n",
       " 'cc611801-6c45-49f1-b88b-53417b238a79',\n",
       " '6bb9d805-d9c5-496d-8148-818025af81b9',\n",
       " '5c132b3d-ffe5-4db3-a282-24ceb1f3f78f',\n",
       " 'ab09b7af-26a9-43f6-b2b6-6198bf6c7b65',\n",
       " '0b41dd3d-b83e-4357-8d07-24672526ed21',\n",
       " 'ef478afa-e471-41b6-a1e7-4477c7b41aa8',\n",
       " '5190e5b7-0303-450c-987b-078e25252fce',\n",
       " '1c63563a-9449-4976-9e92-4a24bc23be70',\n",
       " '40c79d14-7196-46c4-9285-e7a0c36e2554',\n",
       " '62d15900-fdf6-49f0-bb87-fa9f4dfade95',\n",
       " '10bbec7f-39a4-48f1-8e34-7ebb34ebd60b',\n",
       " '69c5c267-91de-4806-9793-aae4a58b978d',\n",
       " '215310c5-544a-46ee-8f94-1a24e3e16365',\n",
       " '482b0ab4-5cbd-48d9-8833-027970e70877',\n",
       " 'a51b1487-53b3-44c3-b058-5e0755a73396',\n",
       " 'a383b7f8-d155-4645-91a6-c52214cde7ee',\n",
       " '72a68448-201d-4c34-9254-e777dd1eef9a',\n",
       " 'e0fe6042-a0b4-4386-9ae4-d27705ee9848',\n",
       " '95c9a2e1-e9ee-4b35-9903-165c6c11ade9',\n",
       " 'db9e28ff-0f33-4028-ae5b-be3b16b49229',\n",
       " '43ace630-0b88-409d-b135-23cc898e52aa',\n",
       " 'a07175e3-e65b-4b77-9bbb-92cbe15d0fde',\n",
       " '3a66c99f-c8b8-434b-a8ee-8d1961f5fb48',\n",
       " '293252dd-a252-47ac-b300-e629bd40fec9',\n",
       " '932ed91b-c703-428d-a05f-1570997af358',\n",
       " '484930d4-cf84-4763-b129-0c23f2c8aea7',\n",
       " 'f056544d-ba28-476a-a072-a49f35bba29e',\n",
       " 'a049724e-1a8f-4e5f-9c1d-cc4a8fbd22dc',\n",
       " '8b8d4530-83d3-4687-b7ac-8b7b9a1ffa70',\n",
       " '841624fa-015c-4e4a-99af-0ccfc859fafb',\n",
       " 'a52d93fe-f1fe-4778-b2af-f75c74cbcade',\n",
       " 'fce4b293-27ab-43f7-a0bb-58778d4bfd3b',\n",
       " 'c0f0a63c-feab-4c05-bb81-b17bd37fb7f0',\n",
       " '16f60986-7160-4320-bdd6-ba07766e9cfc',\n",
       " 'b4945bb0-5f10-493c-b1dd-c1bf118264f5',\n",
       " '68d7cd38-a067-40aa-bd8f-bfa8d2eec109',\n",
       " '5ab0cd93-4fe6-4c17-8de5-c94c49564157',\n",
       " '1566c595-3d62-4747-ac9f-92c05d8ea722',\n",
       " 'c3d8771b-aa42-46ff-b4cd-c58b3e303bf7',\n",
       " '1db935a0-0b24-4bc4-9ffc-6cf0da208336',\n",
       " '10143eb1-70f9-41fd-bf0d-31bcb47bb95d',\n",
       " 'cf8df58c-9397-42e3-b224-67774c300c67',\n",
       " '9df2604f-8423-4280-aca4-0f464bacdec4',\n",
       " '4be1c524-cab3-425f-b462-4b2a8d773eb8',\n",
       " '78b0a927-ae88-473c-9bbf-ae8df0b8d5af',\n",
       " '3b5ddd0b-1a7f-4af3-953b-0df7ce3cc662',\n",
       " 'ba6eb8a7-d995-480a-8b4b-345d9543c07a',\n",
       " '84c03c6c-d232-4990-b255-4791be3a3a7d',\n",
       " '2a7209b2-bc55-447c-af7f-d104d9a578bf',\n",
       " 'bdbb0805-8799-4096-b721-b0733f9a73d2',\n",
       " 'dc9f7448-c5b7-4bae-82ee-24febf1efd8b',\n",
       " '1f01d905-a46a-49e9-8e80-a3ab359186c9',\n",
       " '0a0e018f-0035-4a9a-a325-7aa324df677b',\n",
       " '19f69df0-0b22-4cdd-9791-2015788b0bda',\n",
       " 'b93dddaf-28da-4252-a837-4c783eb9204b',\n",
       " '7cd62f7c-8318-42b8-a7dc-d933498f8d04',\n",
       " '5dd90f5d-06fc-4c83-8800-cb2a1bf85223',\n",
       " '587e6ec4-1612-4484-a0c7-dfd7a77f72bc',\n",
       " '00016b39-7cfb-467c-ae37-ae302e08e86d',\n",
       " '0562c0ca-814c-478e-a7d3-33402cabf92e',\n",
       " 'edf0988d-db31-4251-a7a1-c9d35e1c325f',\n",
       " 'b07774ac-fdcd-49b2-8c26-a17c8eb479e8',\n",
       " 'ae0adde5-52d3-45bf-8819-cd6cebd8f7a3',\n",
       " '825e7bc8-899b-4fb6-9b6f-4ed3636120bd',\n",
       " '6c33ab45-907e-4379-b1cf-9472de36462e',\n",
       " '5fa6ed49-71e7-492b-92ee-2f19ef59da62',\n",
       " '9909060d-a1df-4d58-9679-874271fa6de0',\n",
       " '18a0e134-5e1e-47c6-8fe8-eb1860a75258',\n",
       " 'c83cdc51-9f7a-425a-bcea-279100af48c1',\n",
       " '5bf25070-1bec-43d7-ad21-4f071671b948',\n",
       " 'd865c765-3452-41eb-8743-8a426902ab51',\n",
       " '4cda1c24-6a36-426d-a2ea-df593fc95065',\n",
       " '8b510171-14b1-42d0-8ebc-df4ed3964e7d',\n",
       " 'dc0bcdb3-1350-46ad-8337-9eeb41dd161e',\n",
       " 'b8e70b9d-32e7-4289-93ce-5b39b574bce2',\n",
       " 'e34f4c87-a526-4013-ac18-a4e6f1dd9e75',\n",
       " 'ce1b8d5d-1e80-412c-9a7f-7ef146244a65',\n",
       " '5f7abc00-0be6-4643-9f15-59063a376806',\n",
       " '7f88b6a8-2da2-4eb0-886b-62d266e8e33b',\n",
       " 'a3e030ec-8987-435c-abd2-18d5eb26a171',\n",
       " 'ab91aa74-4908-4122-a1f1-e35d17bbd624',\n",
       " 'c93aee3f-0dbd-4a75-8e5d-5cc462fd573e',\n",
       " '9fd88551-9d52-496c-bd43-ef9f813764e2',\n",
       " '6962e688-3a53-44b0-bb64-1e3584052574',\n",
       " 'ec1c7320-ba18-41e5-8132-9794208ab352',\n",
       " 'c6e075f1-9660-4e71-a096-2c7009c7d928',\n",
       " 'b009faa2-a5dc-4e58-afe4-17c127797693',\n",
       " 'b77bed0d-3c34-42c2-8fff-a2fd192c5e77',\n",
       " 'bde84fae-9942-408c-9e67-f49544501ddc',\n",
       " '3703e63a-b2b9-4875-b0f5-cc8927201b0a',\n",
       " '539dc505-15f2-4239-83d9-a3c69af78a3f',\n",
       " '97a482ad-1110-4cea-a2d5-095fd4def738',\n",
       " '51698f8d-a675-41be-92dd-8c69fe7f28f7',\n",
       " '4d2e7eb3-9437-4521-b615-b94d1f0b4f57',\n",
       " '8f2ebd41-af59-4d96-a749-633811e269cc',\n",
       " 'a395c771-8c44-4938-9cbe-4205a13e336b',\n",
       " 'ba66cd9f-6252-4234-bf10-6e5e550a976b',\n",
       " '880d4320-c0d0-46f9-8550-ee9bcc46427a',\n",
       " '659cb66f-7c53-4ab8-a9b5-fd8d596a57a9',\n",
       " '506854cc-eb82-44d4-beea-5b1246848966',\n",
       " '51a9d0aa-348f-460a-bde1-adb18234de06',\n",
       " 'ba669aa7-cf4b-4bec-aecd-730dd84db8a2',\n",
       " '4399efcf-fea6-498c-a68b-4e9e19a3a957',\n",
       " '8588e043-b350-46c4-8f8b-6c9b84a77388',\n",
       " '9e6e741a-4a67-4efa-a88a-80836198f84f',\n",
       " '4e735525-0d53-4881-97b8-39acd80cb621',\n",
       " '9aa1ee4c-9a99-4120-8d05-5e46ff5fcbc0',\n",
       " 'f5f29ab6-2e80-45c0-a292-43533c6169e0',\n",
       " '3093b49a-ab98-4496-9bb5-1b34ad9387fb',\n",
       " '9d4ead84-0061-4a03-9786-83db710f89af',\n",
       " '1409a099-22f3-49c7-8b5c-7369e7a3b1d0',\n",
       " 'c25838f3-7f49-44eb-a99a-387f07e15606',\n",
       " 'aa1bb9ee-c068-44e5-aa22-95f26dba86d1',\n",
       " 'c1e2facd-782f-482b-9d8d-36d245138098',\n",
       " 'f564cc0b-d187-4fd8-a3b5-b892781cd12e',\n",
       " '0bae83b0-e874-4438-878a-4a799daf45ba',\n",
       " '8afc7377-6883-47ec-88e5-931f7551b7d2',\n",
       " 'c70f3775-7677-4db8-b095-1b1307f6cbe6',\n",
       " '79e969ab-24cc-4fd0-a3c0-fe3b8c6acae4',\n",
       " 'de4e159e-6b56-4d41-b8c6-6e8edbb61d2d',\n",
       " '159f0a5e-89c4-429a-938f-10e3a68e372d',\n",
       " '0a02404e-1759-443f-8541-dd1d78e3a752',\n",
       " '1df1f5bc-aacf-4701-b217-385f6b8e13b9',\n",
       " '36ffd6b9-100d-4c17-a542-a3c9dd19d7cf',\n",
       " 'd2c704c4-5232-4ceb-b422-d8d55f537fce',\n",
       " 'f2771d7b-7ea6-42df-8235-e7b934a297d1',\n",
       " '8fe376bb-3552-474b-8e15-d987e8bca3c8',\n",
       " '911e8650-6431-4d90-a721-7b2975a48e2e',\n",
       " 'b2c50736-292b-45c2-8c7b-aa224ddfdd6d',\n",
       " 'a9c2454e-917d-4fc5-bd04-227688c3d74c',\n",
       " '4a519a57-51cd-40e8-97fd-cf67f1868449',\n",
       " '53a00f24-9385-4fa3-9578-c48a20878243',\n",
       " 'cbf66fc1-ea8f-444f-bec4-55ac703d0ce7',\n",
       " '2da193cd-fe87-4bb6-817e-3d9eb68a03f2',\n",
       " '9f9d103e-7daa-48f3-8a43-96f3a6a013ec',\n",
       " '36b790b3-1b48-4516-9e3f-4dce7be52fe7',\n",
       " 'd436f8ad-ff38-4076-a4eb-9fa9d9986974',\n",
       " 'b41004fe-b2ac-4b1f-83b9-4fdb840742c6',\n",
       " '895d5724-4260-4406-98d6-2581d4a3b8d4',\n",
       " 'bde67997-10ba-4457-9197-65ad22031a3b',\n",
       " 'ff9850c0-5195-4777-995b-895e04d7066a',\n",
       " '768eb8c1-078e-48f4-8839-16dc501540f0',\n",
       " '7604c590-6dcc-45ec-90a3-8dce2787cb3f',\n",
       " '41230068-1d9f-4432-8d1e-dc9514ae2e17',\n",
       " 'fe66db1a-fe9c-419f-8ee2-dbb4e18ffa03',\n",
       " '59e268e3-5749-4448-9a1b-96adcbc813e2']"
      ]
     },
     "execution_count": 16,
     "metadata": {},
     "output_type": "execute_result"
    }
   ],
   "source": [
    "db.add_documents(st_chunks)"
   ]
  },
  {
   "cell_type": "code",
   "execution_count": 17,
   "metadata": {},
   "outputs": [
    {
     "data": {
      "text/plain": [
       "'is another aspect of ai and it involves designing and building machines with the ability to use sens'"
      ]
     },
     "execution_count": 17,
     "metadata": {},
     "output_type": "execute_result"
    }
   ],
   "source": [
    "db.get()['documents'][1][:100]"
   ]
  },
  {
   "cell_type": "code",
   "execution_count": 18,
   "metadata": {},
   "outputs": [
    {
     "data": {
      "text/plain": [
       "[{'page': 15,\n",
       "  'source': 'research-papers\\\\Advancements-and-Applications-of-AI.pdf'},\n",
       " {'page': 1, 'source': 'research-papers\\\\4839-AI-In-Pharmacy-Article.pdf'},\n",
       " {'page': 15,\n",
       "  'source': 'research-papers\\\\Advancements-and-Applications-of-AI.pdf'},\n",
       " {'page': 7, 'source': 'research-papers\\\\AI-In-Pharmacy.pdf'},\n",
       " {'page': 14,\n",
       "  'source': 'research-papers\\\\Advancements-and-Applications-of-AI.pdf'}]"
      ]
     },
     "execution_count": 18,
     "metadata": {},
     "output_type": "execute_result"
    }
   ],
   "source": [
    "db.get()['metadatas'][:5]"
   ]
  },
  {
   "cell_type": "markdown",
   "metadata": {},
   "source": [
    "## Step 6: Create a Retriever Object and apply Similarity Search"
   ]
  },
  {
   "cell_type": "code",
   "execution_count": 19,
   "metadata": {},
   "outputs": [],
   "source": [
    "retriever = db.as_retriever(search_type=\"similarity\", search_kwargs={'k': 5})"
   ]
  },
  {
   "cell_type": "markdown",
   "metadata": {},
   "source": [
    "## Step 7: Initialize a Chat Prompt Template"
   ]
  },
  {
   "cell_type": "code",
   "execution_count": 20,
   "metadata": {},
   "outputs": [],
   "source": [
    "from langchain_core.prompts import ChatPromptTemplate\n",
    "\n",
    "PROMPT_TEMPLATE = \"\"\"\n",
    "You are a highly knowledgeable assistant specializing in pharmaceutical sciences. \n",
    "Answer the question based only on the following context:\n",
    "{context}\n",
    "\n",
    "Answer the question based on the above context:\n",
    "{question}\n",
    "\n",
    "Use the provided context to answer the user's question accurately and concisely.\n",
    "Don't justify your answers.\n",
    "Don't give information not mentioned in the CONTEXT INFORMATION.\n",
    "Do not say \"according to the context\" or \"mentioned in the context\" or similar.\n",
    "\"\"\"\n",
    "\n",
    "prompt_template = ChatPromptTemplate.from_template(PROMPT_TEMPLATE)"
   ]
  },
  {
   "cell_type": "markdown",
   "metadata": {},
   "source": [
    "## Step 8: Initialize a Generator (i.e. Chat Model)"
   ]
  },
  {
   "cell_type": "code",
   "execution_count": 23,
   "metadata": {},
   "outputs": [
    {
     "data": {
      "text/plain": [
       "True"
      ]
     },
     "execution_count": 23,
     "metadata": {},
     "output_type": "execute_result"
    }
   ],
   "source": [
    "from dotenv import load_dotenv\n",
    "load_dotenv()"
   ]
  },
  {
   "cell_type": "code",
   "execution_count": 24,
   "metadata": {},
   "outputs": [],
   "source": [
    "from langchain_google_genai import ChatGoogleGenerativeAI\n",
    "\n",
    "chat_model = ChatGoogleGenerativeAI(\n",
    "    model=\"gemini-1.5-pro\",\n",
    "    temperature=1\n",
    ")"
   ]
  },
  {
   "cell_type": "markdown",
   "metadata": {},
   "source": [
    "## Step 9: Initialize a Output Parser"
   ]
  },
  {
   "cell_type": "code",
   "execution_count": 25,
   "metadata": {},
   "outputs": [],
   "source": [
    "from langchain_core.output_parsers import StrOutputParser\n",
    "\n",
    "output_parser = StrOutputParser()"
   ]
  },
  {
   "cell_type": "markdown",
   "metadata": {},
   "source": [
    "## Step 10: Define a RAG Chain"
   ]
  },
  {
   "cell_type": "code",
   "execution_count": 26,
   "metadata": {},
   "outputs": [],
   "source": [
    "from langchain_core.runnables import RunnablePassthrough\n",
    "\n",
    "def format_docs(docs):\n",
    "    return \"\\n\\n\".join(doc.page_content for doc in docs)\n",
    "\n",
    "rag_chain = {\"context\": retriever | format_docs, \"question\": RunnablePassthrough()} | prompt_template | chat_model | output_parser"
   ]
  },
  {
   "cell_type": "markdown",
   "metadata": {},
   "source": [
    "## Step 11: Invoke the Chain"
   ]
  },
  {
   "cell_type": "code",
   "execution_count": 27,
   "metadata": {},
   "outputs": [
    {
     "data": {
      "text/plain": [
       "'The pharmaceutical industry is encountering constraints due to the limited scope of modern advances, resulting in a complicated and time-consuming drug development process with high risks and costs.  It relies on traditional procedures and human intuition, leading to errors, inefficiencies, and delays.  The current system struggles to personalize treatments, contributing to healthcare costs, patient care problems, and pharmaceutical shortages, resulting in poor patient outcomes, including fatalities.  It also faces long wait times for compensation for innovative medications.  However, the industry is adopting AI to improve processes, from drug discovery and development to clinical trials and manufacturing, aiming for increased efficiency, innovation, and better patient outcomes.\\n'"
      ]
     },
     "execution_count": 27,
     "metadata": {},
     "output_type": "execute_result"
    }
   ],
   "source": [
    "query = \"What is Pharmaceutical industry?\"\n",
    "\n",
    "rag_chain.invoke(query)"
   ]
  },
  {
   "cell_type": "code",
   "execution_count": 28,
   "metadata": {},
   "outputs": [],
   "source": [
    "from IPython.display import display\n",
    "from IPython.display import Markdown\n",
    "import textwrap\n",
    "\n",
    "def to_markdown(text):\n",
    "  text = text.replace('•', '  *')\n",
    "  return Markdown(textwrap.indent(text, '> ', predicate=lambda _: True))"
   ]
  },
  {
   "cell_type": "code",
   "execution_count": 29,
   "metadata": {},
   "outputs": [
    {
     "data": {
      "text/markdown": [
       "> AI is used in drug discovery, optimizing clinical processes (recruitment and patient monitoring), post-development patient monitoring, compliance monitoring, marketing optimization, chatbots for patient questions, drug design and manufacturing, automation in pharmaceutical manufacturing (packaging and labeling), creating and refining nano-scale drug delivery systems, predicting properties of drug formulations, and automating business processes.\n"
      ],
      "text/plain": [
       "<IPython.core.display.Markdown object>"
      ]
     },
     "execution_count": 29,
     "metadata": {},
     "output_type": "execute_result"
    }
   ],
   "source": [
    "query = \"What are the different AI applications used in pharmaceutical industry?\"\n",
    "\n",
    "response = rag_chain.invoke(query)\n",
    "\n",
    "to_markdown(response)"
   ]
  },
  {
   "cell_type": "code",
   "execution_count": null,
   "metadata": {},
   "outputs": [],
   "source": []
  }
 ],
 "metadata": {
  "kernelspec": {
   "display_name": "Python 3",
   "language": "python",
   "name": "python3"
  },
  "language_info": {
   "codemirror_mode": {
    "name": "ipython",
    "version": 3
   },
   "file_extension": ".py",
   "mimetype": "text/x-python",
   "name": "python",
   "nbconvert_exporter": "python",
   "pygments_lexer": "ipython3",
   "version": "3.12.3"
  }
 },
 "nbformat": 4,
 "nbformat_minor": 2
}
